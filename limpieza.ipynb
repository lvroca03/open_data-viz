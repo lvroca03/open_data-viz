{
 "cells": [
  {
   "cell_type": "markdown",
   "metadata": {},
   "source": [
    "# Limpieza y preprocesamiento de datos"
   ]
  },
  {
   "cell_type": "markdown",
   "metadata": {},
   "source": [
    "## Importación librerias"
   ]
  },
  {
   "cell_type": "code",
   "execution_count": 1,
   "metadata": {},
   "outputs": [],
   "source": [
    "import pandas as pd\n",
    "from geopy.geocoders import Nominatim\n",
    "from googletrans import Translator\n",
    "import pycountry\n",
    "import requests\n",
    "from tzlocal import get_localzone\n",
    "import pytz\n",
    "from datetime import datetime\n",
    "import re\n",
    "import emoji\n",
    "from nltk.sentiment.vader import SentimentIntensityAnalyzer"
   ]
  },
  {
   "cell_type": "markdown",
   "metadata": {},
   "source": [
    "## Lectura de datos"
   ]
  },
  {
   "cell_type": "code",
   "execution_count": 2,
   "metadata": {},
   "outputs": [],
   "source": [
    "tweets_guerra = pd.read_excel(\"tweets_guerra.xlsx\")"
   ]
  },
  {
   "cell_type": "code",
   "execution_count": 3,
   "metadata": {},
   "outputs": [
    {
     "data": {
      "text/html": [
       "<div>\n",
       "<style scoped>\n",
       "    .dataframe tbody tr th:only-of-type {\n",
       "        vertical-align: middle;\n",
       "    }\n",
       "\n",
       "    .dataframe tbody tr th {\n",
       "        vertical-align: top;\n",
       "    }\n",
       "\n",
       "    .dataframe thead th {\n",
       "        text-align: right;\n",
       "    }\n",
       "</style>\n",
       "<table border=\"1\" class=\"dataframe\">\n",
       "  <thead>\n",
       "    <tr style=\"text-align: right;\">\n",
       "      <th></th>\n",
       "      <th>id</th>\n",
       "      <th>usuario</th>\n",
       "      <th>tweet</th>\n",
       "      <th>ubicacion</th>\n",
       "      <th>nombre_de_pila</th>\n",
       "      <th>fecha</th>\n",
       "    </tr>\n",
       "  </thead>\n",
       "  <tbody>\n",
       "    <tr>\n",
       "      <th>0</th>\n",
       "      <td>1751724377383550976</td>\n",
       "      <td>laprensa</td>\n",
       "      <td>Doce miembros de la agencia para los refugiado...</td>\n",
       "      <td>Nicaragua</td>\n",
       "      <td>LA PRENSA Nicaragua</td>\n",
       "      <td>2024-01-28 21:50:11+00:00</td>\n",
       "    </tr>\n",
       "    <tr>\n",
       "      <th>1</th>\n",
       "      <td>1751723773194027008</td>\n",
       "      <td>AgenciaAJN</td>\n",
       "      <td>El gran rabino de Rusia se expresó en público ...</td>\n",
       "      <td>Argentina</td>\n",
       "      <td>Agencia AJN</td>\n",
       "      <td>2024-01-28 21:47:47+00:00</td>\n",
       "    </tr>\n",
       "    <tr>\n",
       "      <th>2</th>\n",
       "      <td>1751721984226959872</td>\n",
       "      <td>helenezonana</td>\n",
       "      <td>Que liberen a los rehenes YA! Basta de tanta b...</td>\n",
       "      <td>.,.</td>\n",
       "      <td>Helene Zonana</td>\n",
       "      <td>2024-01-28 21:40:41+00:00</td>\n",
       "    </tr>\n",
       "    <tr>\n",
       "      <th>3</th>\n",
       "      <td>1751719317958172928</td>\n",
       "      <td>LawAndTrends</td>\n",
       "      <td>La CIJ exige a Israel impedir un genocidio con...</td>\n",
       "      <td>the world</td>\n",
       "      <td>LawAndTrends💙💛</td>\n",
       "      <td>2024-01-28 21:30:05+00:00</td>\n",
       "    </tr>\n",
       "    <tr>\n",
       "      <th>4</th>\n",
       "      <td>1751718215938458112</td>\n",
       "      <td>Alexand22956267</td>\n",
       "      <td>Querem discutir o cessar-fogo sem a participaç...</td>\n",
       "      <td>NaN</td>\n",
       "      <td>Alexandre Moreira</td>\n",
       "      <td>2024-01-28 21:25:42+00:00</td>\n",
       "    </tr>\n",
       "  </tbody>\n",
       "</table>\n",
       "</div>"
      ],
      "text/plain": [
       "                    id          usuario  \\\n",
       "0  1751724377383550976         laprensa   \n",
       "1  1751723773194027008       AgenciaAJN   \n",
       "2  1751721984226959872     helenezonana   \n",
       "3  1751719317958172928     LawAndTrends   \n",
       "4  1751718215938458112  Alexand22956267   \n",
       "\n",
       "                                               tweet  ubicacion  \\\n",
       "0  Doce miembros de la agencia para los refugiado...  Nicaragua   \n",
       "1  El gran rabino de Rusia se expresó en público ...  Argentina   \n",
       "2  Que liberen a los rehenes YA! Basta de tanta b...        .,.   \n",
       "3  La CIJ exige a Israel impedir un genocidio con...  the world   \n",
       "4  Querem discutir o cessar-fogo sem a participaç...        NaN   \n",
       "\n",
       "        nombre_de_pila                      fecha  \n",
       "0  LA PRENSA Nicaragua  2024-01-28 21:50:11+00:00  \n",
       "1          Agencia AJN  2024-01-28 21:47:47+00:00  \n",
       "2        Helene Zonana  2024-01-28 21:40:41+00:00  \n",
       "3       LawAndTrends💙💛  2024-01-28 21:30:05+00:00  \n",
       "4    Alexandre Moreira  2024-01-28 21:25:42+00:00  "
      ]
     },
     "execution_count": 3,
     "metadata": {},
     "output_type": "execute_result"
    }
   ],
   "source": [
    "tweets_guerra.head()"
   ]
  },
  {
   "cell_type": "code",
   "execution_count": 4,
   "metadata": {},
   "outputs": [
    {
     "name": "stdout",
     "output_type": "stream",
     "text": [
      "<class 'pandas.core.frame.DataFrame'>\n",
      "RangeIndex: 2000 entries, 0 to 1999\n",
      "Data columns (total 6 columns):\n",
      " #   Column          Non-Null Count  Dtype \n",
      "---  ------          --------------  ----- \n",
      " 0   id              2000 non-null   int64 \n",
      " 1   usuario         2000 non-null   object\n",
      " 2   tweet           2000 non-null   object\n",
      " 3   ubicacion       1413 non-null   object\n",
      " 4   nombre_de_pila  2000 non-null   object\n",
      " 5   fecha           2000 non-null   object\n",
      "dtypes: int64(1), object(5)\n",
      "memory usage: 93.9+ KB\n"
     ]
    }
   ],
   "source": [
    "tweets_guerra.info()"
   ]
  },
  {
   "cell_type": "code",
   "execution_count": 5,
   "metadata": {},
   "outputs": [
    {
     "data": {
      "text/plain": [
       "id                  0\n",
       "usuario             0\n",
       "tweet               0\n",
       "ubicacion         587\n",
       "nombre_de_pila      0\n",
       "fecha               0\n",
       "dtype: int64"
      ]
     },
     "execution_count": 5,
     "metadata": {},
     "output_type": "execute_result"
    }
   ],
   "source": [
    "# Verificación de NA\n",
    "tweets_guerra.isna().sum()"
   ]
  },
  {
   "cell_type": "code",
   "execution_count": 6,
   "metadata": {},
   "outputs": [],
   "source": [
    "# Cambiar NA de la columna ubicacion por \"sin ubicación\"\n",
    "tweets_guerra['ubicacion'] = tweets_guerra['ubicacion'].fillna('sin ubicación')"
   ]
  },
  {
   "cell_type": "code",
   "execution_count": 7,
   "metadata": {},
   "outputs": [
    {
     "data": {
      "text/plain": [
       "id                0\n",
       "usuario           0\n",
       "tweet             0\n",
       "ubicacion         0\n",
       "nombre_de_pila    0\n",
       "fecha             0\n",
       "dtype: int64"
      ]
     },
     "execution_count": 7,
     "metadata": {},
     "output_type": "execute_result"
    }
   ],
   "source": [
    "# Verificar inexistencia de NA\n",
    "tweets_guerra.isna().sum()"
   ]
  },
  {
   "cell_type": "markdown",
   "metadata": {},
   "source": [
    "## Cambiar ubicación por país"
   ]
  },
  {
   "cell_type": "code",
   "execution_count": 8,
   "metadata": {},
   "outputs": [],
   "source": [
    "# Función que utiliza librería geopy para obtener el pais de la ubicación proporcionada.\n",
    "# fuente: https://pypi.org/project/geopy/\n",
    "def obtener_pais_ubi(ubicacion):\n",
    "    geolocalizador = Nominatim(user_agent=\"localizacion\")\n",
    "    try:\n",
    "        location = geolocalizador.geocode(ubicacion)\n",
    "        if location:\n",
    "            pais = location.address.split(\",\")[-1].strip()\n",
    "        else:\n",
    "            pais = 'sin ubicación'\n",
    "        return {ubicacion: pais}\n",
    "    except Exception as e:\n",
    "        print(f\"Error al obtener país para '{ubicacion}': {e}\")\n",
    "        return {ubicacion: 'sin ubicación'}\n"
   ]
  },
  {
   "cell_type": "code",
   "execution_count": 9,
   "metadata": {},
   "outputs": [
    {
     "name": "stdout",
     "output_type": "stream",
     "text": [
      "Error al obtener país para 'Ciudad Autónoma de Buenos Aire': HTTPSConnectionPool(host='nominatim.openstreetmap.org', port=443): Max retries exceeded with url: /search?q=Ciudad+Aut%C3%B3noma+de+Buenos+Aire&format=json&limit=1 (Caused by ReadTimeoutError(\"HTTPSConnectionPool(host='nominatim.openstreetmap.org', port=443): Read timed out. (read timeout=1)\"))\n",
      "Error al obtener país para 'Panamá. Panamá': HTTPSConnectionPool(host='nominatim.openstreetmap.org', port=443): Max retries exceeded with url: /search?q=Panam%C3%A1.+Panam%C3%A1&format=json&limit=1 (Caused by ReadTimeoutError(\"HTTPSConnectionPool(host='nominatim.openstreetmap.org', port=443): Read timed out. (read timeout=1)\"))\n",
      "Error al obtener país para 'Provincia de Bs. Aires': HTTPSConnectionPool(host='nominatim.openstreetmap.org', port=443): Max retries exceeded with url: /search?q=Provincia+de+Bs.+Aires&format=json&limit=1 (Caused by ReadTimeoutError(\"HTTPSConnectionPool(host='nominatim.openstreetmap.org', port=443): Read timed out. (read timeout=1)\"))\n",
      "Error al obtener país para 'Panamá/ Panama': HTTPSConnectionPool(host='nominatim.openstreetmap.org', port=443): Max retries exceeded with url: /search?q=Panam%C3%A1%2F+Panama&format=json&limit=1 (Caused by ReadTimeoutError(\"HTTPSConnectionPool(host='nominatim.openstreetmap.org', port=443): Read timed out. (read timeout=1)\"))\n",
      "Error al obtener país para '42,5°N 9°W': HTTPSConnectionPool(host='nominatim.openstreetmap.org', port=443): Max retries exceeded with url: /search?q=42%2C5%C2%B0N+9%C2%B0W&format=json&limit=1 (Caused by ReadTimeoutError(\"HTTPSConnectionPool(host='nominatim.openstreetmap.org', port=443): Read timed out. (read timeout=1)\"))\n"
     ]
    }
   ],
   "source": [
    "diccionario_paises = {}\n",
    "tweets_ubicaciones = tweets_guerra[\"ubicacion\"].unique()\n",
    "\n",
    "for ubicacion in tweets_ubicaciones:\n",
    "    diccionario_paises.update(obtener_pais_ubi(ubicacion))"
   ]
  },
  {
   "cell_type": "code",
   "execution_count": 10,
   "metadata": {},
   "outputs": [],
   "source": [
    "# Arreglar manual ubicaciones no encontradas en la función \n",
    "# ** Ajustar u omitir esta celda para reproducir **\n",
    "diccionario_paises['Ciudad Autónoma de Buenos Aire']= 'Argentina'\n",
    "diccionario_paises['Provincia de Bs. Aires']= 'Argentina'\n",
    "diccionario_paises['the world'] = 'sin ubicación'\n",
    "diccionario_paises['Mundo'] = 'sin ubicación'\n",
    "diccionario_paises['worldwide'] = 'sin ubicación'\n",
    "diccionario_paises['en mi país, Venezuela'] = 'Venezuela'\n",
    "diccionario_paises['En el Sector de lavapie SC '] = 'sin ubicación'\n",
    "diccionario_paises['the word'] = 'sin ubicación'\n",
    "diccionario_paises['Cidade do Vaticano'] = \"El vaticano\"\n",
    "diccionario_paises['República Socialista '] = 'sin ubicación'\n",
    "diccionario_paises['República Popular Democrática '] = 'sin ubicación'\n",
    "diccionario_paises['Estambul'] = 'Turquía'\n",
    "diccionario_paises['Panamá. Panamá']= 'Panamá'\n",
    "diccionario_paises['Panamá/ Panama']= 'Panamá'\n",
    "diccionario_paises['E #454 esq. 19 La Habana, Cuba'] = \"Cuba\"\n",
    "diccionario_paises['Porto, Norte de Portugal, UE'] = \"Portugal\"\n",
    "diccionario_paises['Rep. Bolivariana de Venezuela']= \"Venezuela\"\n",
    "diccionario_paises['In and Around Boston']=\"Estados Unidos\"\n",
    "diccionario_paises['Panamá, Rep. de Panamá']=\"Panamá\"\n",
    "diccionario_paises['CDMX / Guadalajara / Monterrey']=\"México\"\n",
    "diccionario_paises['3426 Ashlock Dr Houston,TX 770']=\"Estados Unidos\"\n",
    "diccionario_paises['De Galiza a Caracas, Venezuela']=\"Venezuela\"\n",
    "diccionario_paises['Barranquilla, Tel 6053735050']=\"Colombia\"\n",
    "diccionario_paises['  🇪🇸 ']=\"España\"\n",
    "diccionario_paises['Argentina, 🕊️⚠️ mod/they/them']=\"Argentina\"\n",
    "diccionario_paises['Barcelona República Catalana']=\"España\"\n",
    "diccionario_paises['Israel']=\"Israel\"\n",
    "diccionario_paises['Paraguay / Paraguái']=\"Paraguay\"\n",
    "diccionario_paises['الأراضي الفلسطينية']=\"Palestina\"\n",
    "diccionario_paises['Papua Niugini']=\"Nueva Guinea\"\n",
    "diccionario_paises['Schweiz/Suisse/Svizzera/Svizra']=\"Suiza\"\n",
    "diccionario_paises['لبنان']= \"Líbano\"\n",
    "diccionario_paises['Éire / Ireland'] = \"Irlanda\"\n",
    "diccionario_paises['België / Belgique / Belgien']=\"Bélgica\"\n",
    "diccionario_paises['中国']= \"China\"\n",
    "diccionario_paises['Россия']= \"Rusia\"\n",
    "diccionario_paises['السودان']= \"Sudan\"\n",
    "diccionario_paises['قطر']= \"Qatar\"\n",
    "diccionario_paises['قطر']= \"Qatar\"\n",
    "diccionario_paises['Norge']= \"Noruega\"\n",
    "diccionario_paises['Deutschland']= \"Alemania\"\n",
    "diccionario_paises['Nederland']= \"Paises Bajos\"\n",
    "diccionario_paises['عمان']= \"Oman\"\n",
    "diccionario_paises['Magyarország']= \"Hungría\"\n",
    "diccionario_paises['Монгол улс ᠮᠤᠩᠭᠤᠯ ᠤᠯᠤᠰ']= \"Mongolia\"\n",
    "diccionario_paises['العراق']= \"Irak\"\n",
    "diccionario_paises['Shqipëria']= \"Albania\"\n",
    "diccionario_paises['ایران']= \"Iran\""
   ]
  },
  {
   "cell_type": "code",
   "execution_count": 11,
   "metadata": {},
   "outputs": [],
   "source": [
    "tweets_guerra['ubicacion'] = tweets_guerra['ubicacion'].replace(diccionario_paises)"
   ]
  },
  {
   "cell_type": "markdown",
   "metadata": {},
   "source": [
    "## Traducir país y tweet a español"
   ]
  },
  {
   "cell_type": "code",
   "execution_count": 12,
   "metadata": {},
   "outputs": [],
   "source": [
    "# Función que utiliza la librería googletrans para detectar el idioma en el cual está escrito el texto de entrada y lo traduce a español.\n",
    "# Fuente: https://pypi.org/project/googletrans/\n",
    "def traducir_a_espanol(texto):\n",
    "    try:\n",
    "        translator = Translator()\n",
    "        traduccion = translator.translate(texto, src='auto', dest='es')\n",
    "        return traduccion.text\n",
    "    except Exception as e:\n",
    "        print(f\"Error: {e} al traducir el tweet: {texto}\")\n",
    "        return texto "
   ]
  },
  {
   "cell_type": "code",
   "execution_count": 13,
   "metadata": {},
   "outputs": [
    {
     "name": "stdout",
     "output_type": "stream",
     "text": [
      "Error: The read operation timed out al traducir el tweet: Россия\n",
      "Error: 'NoneType' object is not iterable al traducir el tweet: Moldova\n"
     ]
    }
   ],
   "source": [
    "# Traducir ubicaciones (paises)\n",
    "diccionario_paises_traducido = {clave: traducir_a_espanol(valor) for clave, valor in diccionario_paises.items()}"
   ]
  },
  {
   "cell_type": "code",
   "execution_count": 14,
   "metadata": {},
   "outputs": [],
   "source": [
    "# Arreglar manual ubicaciones mal traducidas por la función \n",
    "# ** Ajustar u omitir esta celda para reproducir **\n",
    "for clave, valor in diccionario_paises_traducido.items():\n",
    "    if (valor == 'Espacio'):\n",
    "        diccionario_paises_traducido[clave] = \"España\"\n",
    "for clave, valor in diccionario_paises_traducido.items():\n",
    "    if (valor == 'Porcelana'):\n",
    "        diccionario_paises_traducido[clave] = \"China\"\n",
    "for clave, valor in diccionario_paises_traducido.items():\n",
    "    if (valor == 'Lo más conocido ᠮᠤᠩᠭᠤᠯ ᠤᠯᠤᠰ'):\n",
    "        diccionario_paises_traducido[clave] = \"Mongolia\"\n",
    "for clave, valor in diccionario_paises_traducido.items():\n",
    "    if (valor == 'Guía'):\n",
    "        diccionario_paises_traducido[clave] = \"sin ubicación\""
   ]
  },
  {
   "cell_type": "code",
   "execution_count": 15,
   "metadata": {},
   "outputs": [],
   "source": [
    "tweets_guerra['ubicacion']  = tweets_guerra['ubicacion'].replace(diccionario_paises_traducido)"
   ]
  },
  {
   "cell_type": "markdown",
   "metadata": {},
   "source": [
    "Antes de traducir tweet se procederá a limpiarlo.\n"
   ]
  },
  {
   "cell_type": "code",
   "execution_count": 16,
   "metadata": {},
   "outputs": [],
   "source": [
    "# Función que elimina @, # y emojis de los tweets.\n",
    "def limpiar_tweet(tweet):\n",
    "    tweet_sin_menciones_hashtags = re.sub(r'[@#]\\S+', '', tweet)\n",
    "    tweet_limpiado  = re.sub(r'\\s?[\\U00010000-\\U0010ffff]\\s?', '', tweet_sin_menciones_hashtags)\n",
    "    return tweet_limpiado\n",
    "\n",
    "tweets_guerra[\"tweet\"] = tweets_guerra[\"tweet\"].apply(limpiar_tweet)"
   ]
  },
  {
   "cell_type": "code",
   "execution_count": 17,
   "metadata": {},
   "outputs": [
    {
     "name": "stdout",
     "output_type": "stream",
     "text": [
      "Error: list index out of range al traducir el tweet: https://t.co/G80gyYqBi6\n",
      "Error: list index out of range al traducir el tweet: https://t.co/kEO7gnUOI3\n",
      "Error: the JSON object must be str, bytes or bytearray, not NoneType al traducir el tweet: El olivo, símbolo de Palestina y víctima muda de la guerra de Israel en Gaza\n",
      "La pérdida de estos firmes compañeros ha dejado profundas cicatrices en los corazones de muchos palestinos de Gaza.\n",
      "Por Ruwaida Amer  English Al Jazeera\n",
      "Al-Fukhari, Gaza – Ahlam Saqr, de 50 años, lloró la mañana en que sus hijos comenzaron a cortar ramas de sus olivos para quemarlas y hacer fuego para cocinar, mantenerse caliente y calentar agua para bañarse.\n",
      "\n",
      "Era una cuestión de supervivencia, dice, permitir que la familia sobreviviera al implacable bombardeo israelí de Gaza. Pero eso no hizo que fuera más fácil ver cómo desarmaban sus cuatro amados árboles.\n",
      "\n",
      "Obligado a perder 'compañeros de vida'\n",
      "Gaza se encuentra bajo un brutal bombardeo y asedio israelí que ha desplazado a la mayor parte de su población y al mismo tiempo ha impedido la entrada de combustible, gas para cocinas y otros artículos de primera necesidad.\n",
      "\n",
      "En medio de la miseria y la crisis humanas, se han desarrollado una serie de otras tragedias cuando las familias se ven obligadas a destruir sus árboles para tener leña para sobrevivir.\n",
      "\n",
      "Tener que destruir los propios olivos, uno de los símbolos más perdurables de Palestina, es una herida que corta profundamente y ha dejado cicatrices de diferentes formas en los corazones de las personas que hablaron con Al Jazeera.\n",
      "\n",
      "Ahlam no es la única persona en Gaza que ha tenido que desprenderse de sus queridos árboles sólo para poder alimentar a la familia y mantener a todos calientes. En muchos hogares, la gente está de luto por tener que destruir a estos testigos vivos de la historia familiar.\n",
      "\n",
      "“Les decía a todos que mis árboles han sido mis compañeros de vida. Han estado allí mientras yo criaba a mis hijos aquí; Han visto todas las etapas de nuestras vidas”, dijo Ahlam a Al Jazeera.\n",
      "\n",
      "Khaled Baraka, de 65 años, también llora por sus árboles, pero en realidad no está seguro de en qué estado se encuentran hoy porque se vio obligado a huir de su casa en Bani Suheila hace seis semanas.\n",
      "\n",
      "“Fui desplazado... cuando los tanques israelíes entraron en la ciudad de Khan Younis, ya estábamos pasando por momentos difíciles.\n",
      "\n",
      "“Mi huerto y mis campos estaban justo al lado de nuestra casa y ya habíamos empezado a quemar ramas”, dijo.\n",
      "\n",
      "Cuando Khaled y su familia huyeron de Bani Suheila, la mitad de los árboles habían desaparecido, talados poco a poco para las necesidades de la familia o porque los vecinos habían venido pidiendo leña para mantener calientes y alimentados a sus propios hijos.\n",
      "\n",
      "“Para hacer pan se necesita fuego”, dijo con amargura. “¿De qué otra manera se suponía que iba a suceder? Había tantos tipos diferentes de árboles. Guayaba, limón, naranja y olivo: todos estaban siendo talados y estoy seguro de que una vez que las fuerzas de ocupación tomaron el área destruyeron lo que quedaba”.\n",
      "\n",
      "Khaled heredó sus árboles de su padre, le dijo a Al Jazeera, y la mayoría de ellos tienen al menos 70 años.\n",
      "\n",
      "“Estos árboles vivieron mis momentos de alegría y tristeza”, dijo. “Ellos conocen mis secretos. Cuando estaba triste y preocupada, hablaba con los árboles, los cuidaba... pero la guerra mató esos árboles”.\n",
      "\n",
      "'Los árboles eran mis amigos'\n",
      "Fayza Jabr, de 60 años, ha vivido sola durante 10 años, desde que falleció su marido. La pareja no tuvo hijos.\n",
      "\n",
      "Unos siete años antes de la muerte de su marido, plantó dos olivos, un limonero y una clementina alrededor de su casa y dedicó su tiempo a cuidarlos y observar con orgullo cómo maduraban y daban frutos.\n",
      "\n",
      "“Eran mis amigos, parte de mi vida”, dijo Fayza. “Cuando un árbol estaba dando frutos, llamaba al hijo del vecino, Abboud, que tiene 11 años. Él me ayudaba a recoger los frutos y podar los árboles que los necesitaban.\n",
      "\n",
      "“No quería construir un muro alrededor de mi casa para poder ver los árboles desde adentro y para que la gente que pasaba pudiera disfrutar del verde.\n",
      "\n",
      "“A mediados de octubre, mis hermanos y hermanas, sus hijos y nietos fueron desplazados a mi casa en Khan Younis: más de 30 personas en mi pequeña casa, todas ellas necesitadas de comida y pan. Para lograrlo, terminamos teniendo que usar los árboles para encender fuegos”.\n",
      "\n",
      "Al principio, continuó Fayza, era posible encontrar bolsas de leña en el mercado y juntar 30 dólares para comprar una bolsa que duraría dos días.\n",
      "\n",
      "Pero finalmente, ese suministro se acabó y sus hermanas se despertaban al amanecer para buscar cualquier cosa que pudiera alimentar el fuego. Se quemó todo tipo de cosas: telas, plástico e incluso zapatos.\n",
      "\n",
      "“Era temporada de aceitunas a finales de octubre, así que le pedí a mi familia que me ayudara a recoger las aceitunas, sin saber que esa sería la temporada de despedida de mis árboles.\n",
      "\n",
      "“Creo que tuve suerte de poder recoger aceitunas de mis dos árboles. Tienen más de 17 años. Si fueran mis hijos, serían adolescentes.\n",
      "\n",
      "“Aproximadamente un mes después de la cosecha, noté que algunas ramas estaban rotas, así que les pregunté a mis hermanas por ellas. Me dijeron que se vieron obligados a talar los árboles porque no había otra solución. Ahora el jardín está desierto. Tuvimos que arrancar los árboles de raíz para aprovechar hasta el último trozo.\n",
      "\n",
      "\"Yo estaba triste. Me resulta difícil talar mis árboles, pero no puedo enojarme porque hay niños en la casa que necesitan comer”.\n",
      "\n",
      "La riqueza indescriptible de cuatro árboles\n",
      "Ahlam se mudó a su casa en al-Fukhari hace unos 20 años, después de que las fuerzas israelíes destruyeran la primera casa de la familia cerca de Khan Younis.\n",
      "\n",
      "“UNRWA [la Agencia de Obras Públicas y Socorro de las Naciones Unidas para los Refugiados de Palestina] construyó estas casas para nosotros después de haber estado desplazados durante un par de años, mi esposo, yo y nuestros seis hijos, mudándonos de un refugio temporal a otro. Estaba muy feliz, las nuevas casas tenían espacio para plantar árboles y otras cosas a su alrededor. No hay nada como las plantas para hacer que un lugar resulte reconfortante.\n",
      "\n",
      "“Cuando los trabajadores municipales vinieron a dar dos olivos a cada casa, los convencí para que me dieran cuatro, y quedé tan satisfecho con esos cuatro árboles que era como si tuviera un huerto completo.\n",
      "\n",
      "“Mi hija Israa sólo podía estudiar entre estos árboles. Ella también los amaba. Pero desde el comienzo de la guerra, necesitamos encender fuegos para cocinar y es un viaje doloroso buscar leña. Usamos de todo, incluso tuberías de agua de plástico un día, y olían tan mal que hasta la comida sabía diferente.\n",
      "\n",
      "“Mis hijos finalmente sugirieron que taláramos árboles. Al principio dijeron que sólo un árbol y la guerra no duraría mucho. Pero la guerra no terminó y ahora todos los árboles han desaparecido”, dijo Ahlam.\n",
      "\n",
      "\"Hemos perdido tanto en esta guerra que no acabará con los árboles que eran como nuestros hijos\", dijo Khaled, resignado.\n",
      "\n",
      "\"Lloramos por estos árboles, pero no hay otra solución\".\n",
      "\n",
      "Link a la columna: https://t.co/nDfIvi2G97\n"
     ]
    }
   ],
   "source": [
    "#Traducir tweets\n",
    "tweets_guerra[\"tweet\"] = tweets_guerra[\"tweet\"].apply(traducir_a_espanol)"
   ]
  },
  {
   "cell_type": "markdown",
   "metadata": {},
   "source": [
    "## Obtener codigo iso-2 del país"
   ]
  },
  {
   "cell_type": "code",
   "execution_count": 18,
   "metadata": {},
   "outputs": [],
   "source": [
    "# Función que utiliza la librería pycountry para encontrar codigo iso-2 del país.\n",
    "# Fuente: https://pypi.org/project/pycountry/\n",
    "def obtener_codigos_paises(nombres_paises):\n",
    "    codigos_paises = {}\n",
    "    \n",
    "    for nombre_pais in nombres_paises:\n",
    "        try:\n",
    "            resultado_busqueda = pycountry.countries.search_fuzzy(nombre_pais)\n",
    "            pais = resultado_busqueda[0].alpha_2\n",
    "            codigos_paises[nombre_pais] = pais\n",
    "        except LookupError:\n",
    "            try:\n",
    "                translator = Translator()\n",
    "                pais_en = translator.translate(nombre_pais, src='es', dest='en')\n",
    "                pais = pycountry.countries.search_fuzzy(pais_en.text)[0]\n",
    "                codigos_paises[nombre_pais] = pais.alpha_2\n",
    "            except LookupError:\n",
    "                codigos_paises[nombre_pais] = \"no se encontró código\"\n",
    "\n",
    "    return codigos_paises\n"
   ]
  },
  {
   "cell_type": "code",
   "execution_count": 19,
   "metadata": {},
   "outputs": [
    {
     "name": "stdout",
     "output_type": "stream",
     "text": [
      "SubdivisionHierarchy(code='GT-GU', country_code='GT', name='Guatemala', parent_code=None, type='Department')\n",
      "SubdivisionHierarchy(code='MX-MEX', country_code='MX', name='México', parent_code=None, type='State')\n",
      "SubdivisionHierarchy(code='PA-8', country_code='PA', name='Panamá', parent_code=None, type='Province')\n",
      "SubdivisionHierarchy(code='GN-ML', country_code='GN', name='Mali', parent='L', parent_code='GN-L', type='Prefecture')\n"
     ]
    }
   ],
   "source": [
    "lista_paises = tweets_guerra[tweets_guerra['ubicacion'] != \"sin ubicación\"][\"ubicacion\"].unique()\n",
    "codigos = obtener_codigos_paises(lista_paises)\n",
    "\n",
    "diccionario_paises_codigos = {pais: codigo for pais, codigo in codigos.items()}"
   ]
  },
  {
   "cell_type": "code",
   "execution_count": 20,
   "metadata": {},
   "outputs": [],
   "source": [
    "# Arreglar manual codigos no encontrados por la función \n",
    "# ** Ajustar u omitir esta celda para reproducir **\n",
    "diccionario_paises_codigos[\"El vaticano\"] = \"VA\""
   ]
  },
  {
   "cell_type": "code",
   "execution_count": 21,
   "metadata": {},
   "outputs": [],
   "source": [
    "tweets_guerra[\"codigo_pais\"]= tweets_guerra[\"ubicacion\"].replace(diccionario_paises_codigos)"
   ]
  },
  {
   "cell_type": "markdown",
   "metadata": {},
   "source": [
    "## Ajustar hora según ubicación "
   ]
  },
  {
   "cell_type": "code",
   "execution_count": 22,
   "metadata": {},
   "outputs": [],
   "source": [
    "# Función que utiliza la librería pytz para cambiar la zona horaria según la ubicación.\n",
    "# Fuente: https://pypi.org/project/pytz/\n",
    "def ajustar_hora(row):\n",
    "    pais = row['codigo_pais']\n",
    "    hora = row['fecha']\n",
    "    try:\n",
    "        zona_horaria = pytz.country_timezones[pais][0]\n",
    "    except KeyError:\n",
    "        zona_horaria = pytz.country_timezones[\"ES\"][0]\n",
    "    \n",
    "    dt = datetime.strptime(hora, '%Y-%m-%d %H:%M:%S%z')\n",
    "    dt = dt.astimezone(pytz.timezone(zona_horaria))\n",
    "\n",
    "    return dt.strftime('%Y-%m-%d %H:%M:%S')"
   ]
  },
  {
   "cell_type": "code",
   "execution_count": 23,
   "metadata": {},
   "outputs": [],
   "source": [
    "tweets_guerra[\"hora_pais\"]=tweets_guerra.apply(ajustar_hora, axis=1)"
   ]
  },
  {
   "cell_type": "markdown",
   "metadata": {},
   "source": [
    "## Organizar fechas y horas"
   ]
  },
  {
   "cell_type": "code",
   "execution_count": 24,
   "metadata": {},
   "outputs": [],
   "source": [
    "tweets_guerra.rename(columns={'fecha': 'fecha_hora'}, inplace=True)\n",
    "tweets_guerra[\"fecha_hora\"]= pd.to_datetime(tweets_guerra[\"fecha_hora\"])\n",
    "tweets_guerra[\"fecha\"] = tweets_guerra[\"fecha_hora\"].dt.date\n",
    "tweets_guerra[\"fecha\"]= pd.to_datetime(tweets_guerra[\"fecha\"])\n",
    "tweets_guerra[\"hora\"] = tweets_guerra[\"fecha_hora\"].dt.time\n",
    "tweets_guerra = tweets_guerra.drop('fecha_hora', axis=1)"
   ]
  },
  {
   "cell_type": "code",
   "execution_count": 25,
   "metadata": {},
   "outputs": [],
   "source": [
    "meses = {1: 'enero', 2: 'febrero', 3: 'marzo', 4: 'abril', 5: 'mayo', 6: 'junio', 7: 'julio', 8: 'agosto', 9: 'septiembre', 10: 'octubre', 11: 'noviembre', 12: 'diciembre'}\n",
    "dias = {'Monday': 'lunes', 'Tuesday': 'martes', 'Wednesday': 'miércoles', 'Thursday': 'jueves', 'Friday': 'viernes', 'Saturday': 'sábado', 'Sunday': 'domingo'}\n",
    "\n",
    "tweets_guerra['mes'] = tweets_guerra['fecha'].dt.month.map(meses)\n",
    "tweets_guerra['año'] = tweets_guerra['fecha'].dt.year\n",
    "tweets_guerra['dia'] = tweets_guerra['fecha'].dt.day\n",
    "tweets_guerra['dia_semana'] = tweets_guerra['fecha'].dt.day_name().map(dias)"
   ]
  },
  {
   "cell_type": "code",
   "execution_count": 26,
   "metadata": {},
   "outputs": [],
   "source": [
    "tweets_guerra[\"hora\"] = pd.to_datetime(tweets_guerra[\"hora\"], format='%H:%M:%S')\n",
    "limites = [0, 5, 12, 18, 24]\n",
    "etiquetas = ['Noche', 'Mañana', 'Tarde', 'Noche']\n",
    "tweets_guerra['periodo'] = pd.cut(tweets_guerra['hora'].dt.hour, bins=limites, labels=etiquetas, right=False,ordered=False)"
   ]
  },
  {
   "cell_type": "markdown",
   "metadata": {},
   "source": [
    "## Obtener coordenadas de la ubicación"
   ]
  },
  {
   "cell_type": "code",
   "execution_count": 27,
   "metadata": {},
   "outputs": [],
   "source": [
    "# Función que utiliza la librería requests para hacer un web scrapping y\n",
    "# obtener la latitud y longitud de países a partir de códigos ISO-2. \n",
    "# Fuente : https://pypi.org/project/requests/\n",
    "def obtener_coordenadas_iso2(codigos_iso2):\n",
    "        resultados = []\n",
    "\n",
    "        for codigo_iso2 in codigos_iso2:\n",
    "            try:\n",
    "                    url = f\"https://restcountries.com/v2/alpha/{codigo_iso2}\"\n",
    "                    respuesta = requests.get(url)\n",
    "                    \n",
    "                    if respuesta.status_code == 200:\n",
    "                        datos_pais = respuesta.json()\n",
    "                        longitud = datos_pais['latlng'][1]\n",
    "                        latitud = datos_pais['latlng'][0]\n",
    "                        \n",
    "                        resultados.append({\n",
    "                            'codigo_pais': codigo_iso2,\n",
    "                            'Latitud': latitud,\n",
    "                            'Longitud': longitud\n",
    "                        })\n",
    "            except Exception as e:\n",
    "                print(e)\n",
    "        df = pd.DataFrame(resultados)\n",
    "        return df"
   ]
  },
  {
   "cell_type": "code",
   "execution_count": 28,
   "metadata": {},
   "outputs": [],
   "source": [
    "data_coordenadas= obtener_coordenadas_iso2(tweets_guerra.codigo_pais)"
   ]
  },
  {
   "cell_type": "code",
   "execution_count": 29,
   "metadata": {},
   "outputs": [],
   "source": [
    "tweets_guerra = tweets_guerra.merge(data_coordenadas, on= \"codigo_pais\",how=\"left\").drop_duplicates().reset_index()\n"
   ]
  },
  {
   "cell_type": "markdown",
   "metadata": {},
   "source": [
    "## Análisis de sentimientos"
   ]
  },
  {
   "cell_type": "code",
   "execution_count": 30,
   "metadata": {},
   "outputs": [],
   "source": [
    "# Función que utiliza la librería nltk para detectar si el tweet es positivo, negativo o neutro.\n",
    "# Fuente: https://www.nltk.org/api/nltk.sentiment.vader.html\n",
    "def analisis_sentimientos(texto):\n",
    "    analizador = SentimentIntensityAnalyzer()\n",
    "\n",
    "    sentiment_score = analizador.polarity_scores(texto)\n",
    "\n",
    "    if sentiment_score['compound'] >= 0.05:\n",
    "        return \"Positivo\"\n",
    "    elif sentiment_score['compound'] <= -0.05:\n",
    "        return \"Negativo\"\n",
    "    else:\n",
    "        return \"Neutral\""
   ]
  },
  {
   "cell_type": "code",
   "execution_count": 31,
   "metadata": {},
   "outputs": [],
   "source": [
    "tweets_guerra[\"sentimiento\"]=tweets_guerra['tweet'].apply(analisis_sentimientos)"
   ]
  },
  {
   "cell_type": "code",
   "execution_count": 32,
   "metadata": {},
   "outputs": [],
   "source": [
    "tweets_guerra.to_csv(\"tweets_guerra_limpio.csv\")"
   ]
  }
 ],
 "metadata": {
  "kernelspec": {
   "display_name": "master",
   "language": "python",
   "name": "python3"
  },
  "language_info": {
   "codemirror_mode": {
    "name": "ipython",
    "version": 3
   },
   "file_extension": ".py",
   "mimetype": "text/x-python",
   "name": "python",
   "nbconvert_exporter": "python",
   "pygments_lexer": "ipython3",
   "version": "3.12.0"
  }
 },
 "nbformat": 4,
 "nbformat_minor": 2
}
